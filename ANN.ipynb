{
  "nbformat": 4,
  "nbformat_minor": 0,
  "metadata": {
    "colab": {
      "provenance": []
    },
    "kernelspec": {
      "name": "python3",
      "display_name": "Python 3"
    },
    "language_info": {
      "name": "python"
    }
  },
  "cells": [
    {
      "cell_type": "code",
      "source": [
        "from google.colab import drive\n",
        "drive.mount('/content/drive')"
      ],
      "metadata": {
        "id": "g8hZgucUec6W"
      },
      "execution_count": null,
      "outputs": []
    },
    {
      "cell_type": "code",
      "source": [
        "from keras.datasets import mnist\n",
        "(train_images, train_labels), (test_images, test_labels) = mnist.load_data()"
      ],
      "metadata": {
        "id": "S-tVYhz9oJjn",
        "outputId": "3edd40ba-6408-4491-cac8-7feb5c58ceda",
        "colab": {
          "base_uri": "https://localhost:8080/"
        }
      },
      "execution_count": 16,
      "outputs": [
        {
          "output_type": "stream",
          "name": "stdout",
          "text": [
            "Downloading data from https://storage.googleapis.com/tensorflow/tf-keras-datasets/mnist.npz\n",
            "11490434/11490434 [==============================] - 0s 0us/step\n"
          ]
        }
      ]
    },
    {
      "cell_type": "code",
      "source": [
        "train_images.shape\n",
        "len(train_labels)\n",
        "train_labels\n",
        "test_images.shape\n",
        "len(test_images)\n",
        "test_labels"
      ],
      "metadata": {
        "colab": {
          "base_uri": "https://localhost:8080/"
        },
        "id": "P-OkrMQWgLyt",
        "outputId": "f72e1fb3-1af3-4163-853a-95950205c4ac"
      },
      "execution_count": 18,
      "outputs": [
        {
          "output_type": "execute_result",
          "data": {
            "text/plain": [
              "array([7, 2, 1, ..., 4, 5, 6], dtype=uint8)"
            ]
          },
          "metadata": {},
          "execution_count": 18
        }
      ]
    },
    {
      "cell_type": "markdown",
      "source": [
        "the network architechture"
      ],
      "metadata": {
        "id": "VL4I43qvgpE9"
      }
    },
    {
      "cell_type": "code",
      "source": [
        "from keras import models\n",
        "from keras import layers\n",
        "network = models.Sequential()\n",
        "network.add(layers.Dense(32, activation='sigmoid', input_shape=(28*28,)))\n",
        "network.add(layers.Dense(8, activation='sigmoid'))\n",
        "network.add(layers.Dense(10, activation='softmax'))\n",
        "network.summary()\n",
        "from google.colab import drive\n",
        "drive.mount('/content/drive')"
      ],
      "metadata": {
        "colab": {
          "base_uri": "https://localhost:8080/"
        },
        "id": "hKq_GRh7goCS",
        "outputId": "f3773e11-b936-4c65-f8ba-f7611233e611"
      },
      "execution_count": 20,
      "outputs": [
        {
          "output_type": "stream",
          "name": "stdout",
          "text": [
            "Model: \"sequential_1\"\n",
            "_________________________________________________________________\n",
            " Layer (type)                Output Shape              Param #   \n",
            "=================================================================\n",
            " dense_3 (Dense)             (None, 32)                25120     \n",
            "                                                                 \n",
            " dense_4 (Dense)             (None, 8)                 264       \n",
            "                                                                 \n",
            " dense_5 (Dense)             (None, 10)                90        \n",
            "                                                                 \n",
            "=================================================================\n",
            "Total params: 25474 (99.51 KB)\n",
            "Trainable params: 25474 (99.51 KB)\n",
            "Non-trainable params: 0 (0.00 Byte)\n",
            "_________________________________________________________________\n",
            "Mounted at /content/drive\n"
          ]
        }
      ]
    },
    {
      "cell_type": "markdown",
      "source": [
        "the compilation step"
      ],
      "metadata": {
        "id": "kJg6UYEciVKo"
      }
    },
    {
      "cell_type": "code",
      "source": [
        "network.compile(optimizer='sgd',loss='categorical_crossentropy',metrics=['accuracy'])"
      ],
      "metadata": {
        "id": "fR_LD416iPhz"
      },
      "execution_count": 21,
      "outputs": []
    },
    {
      "cell_type": "markdown",
      "source": [
        "preparing the image data"
      ],
      "metadata": {
        "id": "cyoRmjsQjy2Y"
      }
    },
    {
      "cell_type": "code",
      "source": [
        "train_images=train_images.reshape((60000,28*28))\n",
        "train_images=train_images.astype('float32')/255.\n",
        "test_images=test_images.reshape((10000,28*28))\n",
        "test_images=test_images.astype('float32')/255."
      ],
      "metadata": {
        "id": "ksRCPsgwjyRP"
      },
      "execution_count": 23,
      "outputs": []
    },
    {
      "cell_type": "markdown",
      "source": [
        "preparing the labels"
      ],
      "metadata": {
        "id": "TFrcnnMuka1q"
      }
    },
    {
      "cell_type": "code",
      "source": [
        "from keras.utils import to_categorical\n",
        "train_labels=to_categorical(train_labels)\n",
        "train_labels\n",
        "test_labels=to_categorical(test_labels)\n",
        "test_labels"
      ],
      "metadata": {
        "colab": {
          "base_uri": "https://localhost:8080/"
        },
        "id": "X4KC30cDkedF",
        "outputId": "4c366317-bd5a-4761-870a-c6af791aace8"
      },
      "execution_count": 24,
      "outputs": [
        {
          "output_type": "execute_result",
          "data": {
            "text/plain": [
              "array([[0., 0., 0., ..., 1., 0., 0.],\n",
              "       [0., 0., 1., ..., 0., 0., 0.],\n",
              "       [0., 1., 0., ..., 0., 0., 0.],\n",
              "       ...,\n",
              "       [0., 0., 0., ..., 0., 0., 0.],\n",
              "       [0., 0., 0., ..., 0., 0., 0.],\n",
              "       [0., 0., 0., ..., 0., 0., 0.]], dtype=float32)"
            ]
          },
          "metadata": {},
          "execution_count": 24
        }
      ]
    },
    {
      "cell_type": "markdown",
      "source": [
        "training and testing"
      ],
      "metadata": {
        "id": "jQYIMFzFlISH"
      }
    },
    {
      "cell_type": "code",
      "source": [
        "network.fit(train_images,train_labels,epochs=160,batch_size=512)"
      ],
      "metadata": {
        "colab": {
          "base_uri": "https://localhost:8080/"
        },
        "id": "oWBKMbtIlKrs",
        "outputId": "bfaa247d-78ee-4b52-a3e9-2f1b634f1a26"
      },
      "execution_count": 25,
      "outputs": [
        {
          "output_type": "stream",
          "name": "stdout",
          "text": [
            "Epoch 1/160\n",
            "118/118 [==============================] - 2s 6ms/step - loss: 2.3597 - accuracy: 0.0909\n",
            "Epoch 2/160\n",
            "118/118 [==============================] - 1s 5ms/step - loss: 2.3230 - accuracy: 0.1007\n",
            "Epoch 3/160\n",
            "118/118 [==============================] - 1s 5ms/step - loss: 2.3042 - accuracy: 0.1400\n",
            "Epoch 4/160\n",
            "118/118 [==============================] - 1s 5ms/step - loss: 2.2933 - accuracy: 0.2447\n",
            "Epoch 5/160\n",
            "118/118 [==============================] - 1s 5ms/step - loss: 2.2858 - accuracy: 0.2406\n",
            "Epoch 6/160\n",
            "118/118 [==============================] - 1s 5ms/step - loss: 2.2800 - accuracy: 0.2236\n",
            "Epoch 7/160\n",
            "118/118 [==============================] - 1s 4ms/step - loss: 2.2748 - accuracy: 0.2319\n",
            "Epoch 8/160\n",
            "118/118 [==============================] - 1s 5ms/step - loss: 2.2698 - accuracy: 0.2489\n",
            "Epoch 9/160\n",
            "118/118 [==============================] - 1s 5ms/step - loss: 2.2647 - accuracy: 0.2620\n",
            "Epoch 10/160\n",
            "118/118 [==============================] - 1s 5ms/step - loss: 2.2595 - accuracy: 0.2655\n",
            "Epoch 11/160\n",
            "118/118 [==============================] - 1s 5ms/step - loss: 2.2539 - accuracy: 0.2664\n",
            "Epoch 12/160\n",
            "118/118 [==============================] - 1s 5ms/step - loss: 2.2479 - accuracy: 0.2610\n",
            "Epoch 13/160\n",
            "118/118 [==============================] - 1s 4ms/step - loss: 2.2415 - accuracy: 0.2728\n",
            "Epoch 14/160\n",
            "118/118 [==============================] - 1s 5ms/step - loss: 2.2346 - accuracy: 0.2740\n",
            "Epoch 15/160\n",
            "118/118 [==============================] - 1s 4ms/step - loss: 2.2272 - accuracy: 0.2936\n",
            "Epoch 16/160\n",
            "118/118 [==============================] - 1s 4ms/step - loss: 2.2192 - accuracy: 0.2963\n",
            "Epoch 17/160\n",
            "118/118 [==============================] - 1s 4ms/step - loss: 2.2105 - accuracy: 0.3151\n",
            "Epoch 18/160\n",
            "118/118 [==============================] - 1s 4ms/step - loss: 2.2012 - accuracy: 0.3206\n",
            "Epoch 19/160\n",
            "118/118 [==============================] - 1s 6ms/step - loss: 2.1911 - accuracy: 0.3268\n",
            "Epoch 20/160\n",
            "118/118 [==============================] - 1s 7ms/step - loss: 2.1803 - accuracy: 0.3408\n",
            "Epoch 21/160\n",
            "118/118 [==============================] - 1s 7ms/step - loss: 2.1687 - accuracy: 0.3526\n",
            "Epoch 22/160\n",
            "118/118 [==============================] - 1s 7ms/step - loss: 2.1563 - accuracy: 0.3662\n",
            "Epoch 23/160\n",
            "118/118 [==============================] - 1s 7ms/step - loss: 2.1431 - accuracy: 0.3785\n",
            "Epoch 24/160\n",
            "118/118 [==============================] - 1s 7ms/step - loss: 2.1290 - accuracy: 0.3817\n",
            "Epoch 25/160\n",
            "118/118 [==============================] - 1s 5ms/step - loss: 2.1141 - accuracy: 0.3898\n",
            "Epoch 26/160\n",
            "118/118 [==============================] - 1s 4ms/step - loss: 2.0984 - accuracy: 0.3986\n",
            "Epoch 27/160\n",
            "118/118 [==============================] - 1s 5ms/step - loss: 2.0819 - accuracy: 0.4071\n",
            "Epoch 28/160\n",
            "118/118 [==============================] - 1s 5ms/step - loss: 2.0647 - accuracy: 0.4147\n",
            "Epoch 29/160\n",
            "118/118 [==============================] - 1s 5ms/step - loss: 2.0468 - accuracy: 0.4207\n",
            "Epoch 30/160\n",
            "118/118 [==============================] - 1s 5ms/step - loss: 2.0284 - accuracy: 0.4278\n",
            "Epoch 31/160\n",
            "118/118 [==============================] - 1s 5ms/step - loss: 2.0094 - accuracy: 0.4329\n",
            "Epoch 32/160\n",
            "118/118 [==============================] - 1s 5ms/step - loss: 1.9900 - accuracy: 0.4396\n",
            "Epoch 33/160\n",
            "118/118 [==============================] - 1s 4ms/step - loss: 1.9702 - accuracy: 0.4471\n",
            "Epoch 34/160\n",
            "118/118 [==============================] - 1s 4ms/step - loss: 1.9502 - accuracy: 0.4527\n",
            "Epoch 35/160\n",
            "118/118 [==============================] - 1s 4ms/step - loss: 1.9299 - accuracy: 0.4592\n",
            "Epoch 36/160\n",
            "118/118 [==============================] - 1s 4ms/step - loss: 1.9095 - accuracy: 0.4649\n",
            "Epoch 37/160\n",
            "118/118 [==============================] - 1s 4ms/step - loss: 1.8890 - accuracy: 0.4724\n",
            "Epoch 38/160\n",
            "118/118 [==============================] - 1s 4ms/step - loss: 1.8685 - accuracy: 0.4780\n",
            "Epoch 39/160\n",
            "118/118 [==============================] - 1s 4ms/step - loss: 1.8480 - accuracy: 0.4846\n",
            "Epoch 40/160\n",
            "118/118 [==============================] - 1s 4ms/step - loss: 1.8276 - accuracy: 0.4916\n",
            "Epoch 41/160\n",
            "118/118 [==============================] - 1s 4ms/step - loss: 1.8072 - accuracy: 0.4977\n",
            "Epoch 42/160\n",
            "118/118 [==============================] - 1s 5ms/step - loss: 1.7870 - accuracy: 0.5074\n",
            "Epoch 43/160\n",
            "118/118 [==============================] - 1s 6ms/step - loss: 1.7670 - accuracy: 0.5141\n",
            "Epoch 44/160\n",
            "118/118 [==============================] - 1s 7ms/step - loss: 1.7471 - accuracy: 0.5215\n",
            "Epoch 45/160\n",
            "118/118 [==============================] - 1s 7ms/step - loss: 1.7275 - accuracy: 0.5276\n",
            "Epoch 46/160\n",
            "118/118 [==============================] - 1s 7ms/step - loss: 1.7080 - accuracy: 0.5340\n",
            "Epoch 47/160\n",
            "118/118 [==============================] - 1s 7ms/step - loss: 1.6889 - accuracy: 0.5435\n",
            "Epoch 48/160\n",
            "118/118 [==============================] - 1s 7ms/step - loss: 1.6699 - accuracy: 0.5512\n",
            "Epoch 49/160\n",
            "118/118 [==============================] - 1s 5ms/step - loss: 1.6513 - accuracy: 0.5586\n",
            "Epoch 50/160\n",
            "118/118 [==============================] - 1s 4ms/step - loss: 1.6329 - accuracy: 0.5665\n",
            "Epoch 51/160\n",
            "118/118 [==============================] - 1s 5ms/step - loss: 1.6147 - accuracy: 0.5747\n",
            "Epoch 52/160\n",
            "118/118 [==============================] - 1s 4ms/step - loss: 1.5968 - accuracy: 0.5815\n",
            "Epoch 53/160\n",
            "118/118 [==============================] - 1s 5ms/step - loss: 1.5791 - accuracy: 0.5899\n",
            "Epoch 54/160\n",
            "118/118 [==============================] - 1s 4ms/step - loss: 1.5616 - accuracy: 0.5959\n",
            "Epoch 55/160\n",
            "118/118 [==============================] - 1s 5ms/step - loss: 1.5444 - accuracy: 0.6050\n",
            "Epoch 56/160\n",
            "118/118 [==============================] - 1s 5ms/step - loss: 1.5273 - accuracy: 0.6132\n",
            "Epoch 57/160\n",
            "118/118 [==============================] - 1s 5ms/step - loss: 1.5105 - accuracy: 0.6195\n",
            "Epoch 58/160\n",
            "118/118 [==============================] - 1s 4ms/step - loss: 1.4938 - accuracy: 0.6272\n",
            "Epoch 59/160\n",
            "118/118 [==============================] - 1s 5ms/step - loss: 1.4772 - accuracy: 0.6342\n",
            "Epoch 60/160\n",
            "118/118 [==============================] - 1s 5ms/step - loss: 1.4608 - accuracy: 0.6401\n",
            "Epoch 61/160\n",
            "118/118 [==============================] - 1s 5ms/step - loss: 1.4446 - accuracy: 0.6475\n",
            "Epoch 62/160\n",
            "118/118 [==============================] - 1s 6ms/step - loss: 1.4284 - accuracy: 0.6551\n",
            "Epoch 63/160\n",
            "118/118 [==============================] - 1s 7ms/step - loss: 1.4124 - accuracy: 0.6623\n",
            "Epoch 64/160\n",
            "118/118 [==============================] - 1s 4ms/step - loss: 1.3964 - accuracy: 0.6697\n",
            "Epoch 65/160\n",
            "118/118 [==============================] - 1s 4ms/step - loss: 1.3806 - accuracy: 0.6766\n",
            "Epoch 66/160\n",
            "118/118 [==============================] - 1s 9ms/step - loss: 1.3648 - accuracy: 0.6824\n",
            "Epoch 67/160\n",
            "118/118 [==============================] - 1s 11ms/step - loss: 1.3491 - accuracy: 0.6883\n",
            "Epoch 68/160\n",
            "118/118 [==============================] - 1s 10ms/step - loss: 1.3334 - accuracy: 0.6948\n",
            "Epoch 69/160\n",
            "118/118 [==============================] - 1s 8ms/step - loss: 1.3179 - accuracy: 0.7015\n",
            "Epoch 70/160\n",
            "118/118 [==============================] - 1s 9ms/step - loss: 1.3024 - accuracy: 0.7075\n",
            "Epoch 71/160\n",
            "118/118 [==============================] - 1s 7ms/step - loss: 1.2870 - accuracy: 0.7122\n",
            "Epoch 72/160\n",
            "118/118 [==============================] - 1s 6ms/step - loss: 1.2717 - accuracy: 0.7182\n",
            "Epoch 73/160\n",
            "118/118 [==============================] - 1s 7ms/step - loss: 1.2565 - accuracy: 0.7230\n",
            "Epoch 74/160\n",
            "118/118 [==============================] - 1s 7ms/step - loss: 1.2414 - accuracy: 0.7292\n",
            "Epoch 75/160\n",
            "118/118 [==============================] - 1s 6ms/step - loss: 1.2264 - accuracy: 0.7339\n",
            "Epoch 76/160\n",
            "118/118 [==============================] - 1s 7ms/step - loss: 1.2115 - accuracy: 0.7391\n",
            "Epoch 77/160\n",
            "118/118 [==============================] - 1s 10ms/step - loss: 1.1968 - accuracy: 0.7438\n",
            "Epoch 78/160\n",
            "118/118 [==============================] - 1s 8ms/step - loss: 1.1822 - accuracy: 0.7477\n",
            "Epoch 79/160\n",
            "118/118 [==============================] - 1s 7ms/step - loss: 1.1678 - accuracy: 0.7514\n",
            "Epoch 80/160\n",
            "118/118 [==============================] - 1s 6ms/step - loss: 1.1535 - accuracy: 0.7566\n",
            "Epoch 81/160\n",
            "118/118 [==============================] - 1s 6ms/step - loss: 1.1394 - accuracy: 0.7607\n",
            "Epoch 82/160\n",
            "118/118 [==============================] - 1s 6ms/step - loss: 1.1255 - accuracy: 0.7635\n",
            "Epoch 83/160\n",
            "118/118 [==============================] - 1s 9ms/step - loss: 1.1118 - accuracy: 0.7667\n",
            "Epoch 84/160\n",
            "118/118 [==============================] - 1s 12ms/step - loss: 1.0982 - accuracy: 0.7702\n",
            "Epoch 85/160\n",
            "118/118 [==============================] - 1s 11ms/step - loss: 1.0849 - accuracy: 0.7729\n",
            "Epoch 86/160\n",
            "118/118 [==============================] - 1s 10ms/step - loss: 1.0718 - accuracy: 0.7756\n",
            "Epoch 87/160\n",
            "118/118 [==============================] - 1s 10ms/step - loss: 1.0590 - accuracy: 0.7787\n",
            "Epoch 88/160\n",
            "118/118 [==============================] - 1s 7ms/step - loss: 1.0464 - accuracy: 0.7814\n",
            "Epoch 89/160\n",
            "118/118 [==============================] - 1s 7ms/step - loss: 1.0340 - accuracy: 0.7837\n",
            "Epoch 90/160\n",
            "118/118 [==============================] - 1s 7ms/step - loss: 1.0218 - accuracy: 0.7865\n",
            "Epoch 91/160\n",
            "118/118 [==============================] - 1s 6ms/step - loss: 1.0099 - accuracy: 0.7890\n",
            "Epoch 92/160\n",
            "118/118 [==============================] - 1s 7ms/step - loss: 0.9982 - accuracy: 0.7915\n",
            "Epoch 93/160\n",
            "118/118 [==============================] - 1s 7ms/step - loss: 0.9867 - accuracy: 0.7937\n",
            "Epoch 94/160\n",
            "118/118 [==============================] - 1s 6ms/step - loss: 0.9755 - accuracy: 0.7956\n",
            "Epoch 95/160\n",
            "118/118 [==============================] - 1s 7ms/step - loss: 0.9646 - accuracy: 0.7981\n",
            "Epoch 96/160\n",
            "118/118 [==============================] - 1s 7ms/step - loss: 0.9538 - accuracy: 0.7999\n",
            "Epoch 97/160\n",
            "118/118 [==============================] - 1s 6ms/step - loss: 0.9433 - accuracy: 0.8018\n",
            "Epoch 98/160\n",
            "118/118 [==============================] - 1s 7ms/step - loss: 0.9330 - accuracy: 0.8041\n",
            "Epoch 99/160\n",
            "118/118 [==============================] - 1s 10ms/step - loss: 0.9230 - accuracy: 0.8056\n",
            "Epoch 100/160\n",
            "118/118 [==============================] - 1s 10ms/step - loss: 0.9132 - accuracy: 0.8070\n",
            "Epoch 101/160\n",
            "118/118 [==============================] - 1s 10ms/step - loss: 0.9036 - accuracy: 0.8086\n",
            "Epoch 102/160\n",
            "118/118 [==============================] - 1s 11ms/step - loss: 0.8942 - accuracy: 0.8102\n",
            "Epoch 103/160\n",
            "118/118 [==============================] - 1s 9ms/step - loss: 0.8851 - accuracy: 0.8116\n",
            "Epoch 104/160\n",
            "118/118 [==============================] - 1s 7ms/step - loss: 0.8761 - accuracy: 0.8132\n",
            "Epoch 105/160\n",
            "118/118 [==============================] - 1s 7ms/step - loss: 0.8674 - accuracy: 0.8151\n",
            "Epoch 106/160\n",
            "118/118 [==============================] - 1s 7ms/step - loss: 0.8588 - accuracy: 0.8160\n",
            "Epoch 107/160\n",
            "118/118 [==============================] - 1s 7ms/step - loss: 0.8505 - accuracy: 0.8181\n",
            "Epoch 108/160\n",
            "118/118 [==============================] - 1s 10ms/step - loss: 0.8423 - accuracy: 0.8190\n",
            "Epoch 109/160\n",
            "118/118 [==============================] - 1s 8ms/step - loss: 0.8343 - accuracy: 0.8200\n",
            "Epoch 110/160\n",
            "118/118 [==============================] - 1s 7ms/step - loss: 0.8265 - accuracy: 0.8215\n",
            "Epoch 111/160\n",
            "118/118 [==============================] - 1s 7ms/step - loss: 0.8189 - accuracy: 0.8231\n",
            "Epoch 112/160\n",
            "118/118 [==============================] - 1s 5ms/step - loss: 0.8115 - accuracy: 0.8243\n",
            "Epoch 113/160\n",
            "118/118 [==============================] - 1s 6ms/step - loss: 0.8042 - accuracy: 0.8259\n",
            "Epoch 114/160\n",
            "118/118 [==============================] - 1s 7ms/step - loss: 0.7971 - accuracy: 0.8271\n",
            "Epoch 115/160\n",
            "118/118 [==============================] - 1s 4ms/step - loss: 0.7901 - accuracy: 0.8282\n",
            "Epoch 116/160\n",
            "118/118 [==============================] - 1s 7ms/step - loss: 0.7833 - accuracy: 0.8292\n",
            "Epoch 117/160\n",
            "118/118 [==============================] - 1s 9ms/step - loss: 0.7766 - accuracy: 0.8303\n",
            "Epoch 118/160\n",
            "118/118 [==============================] - 1s 10ms/step - loss: 0.7701 - accuracy: 0.8313\n",
            "Epoch 119/160\n",
            "118/118 [==============================] - 1s 10ms/step - loss: 0.7637 - accuracy: 0.8328\n",
            "Epoch 120/160\n",
            "118/118 [==============================] - 1s 11ms/step - loss: 0.7574 - accuracy: 0.8342\n",
            "Epoch 121/160\n",
            "118/118 [==============================] - 1s 5ms/step - loss: 0.7513 - accuracy: 0.8355\n",
            "Epoch 122/160\n",
            "118/118 [==============================] - 1s 7ms/step - loss: 0.7453 - accuracy: 0.8362\n",
            "Epoch 123/160\n",
            "118/118 [==============================] - 1s 7ms/step - loss: 0.7394 - accuracy: 0.8372\n",
            "Epoch 124/160\n",
            "118/118 [==============================] - 1s 6ms/step - loss: 0.7337 - accuracy: 0.8384\n",
            "Epoch 125/160\n",
            "118/118 [==============================] - 1s 7ms/step - loss: 0.7281 - accuracy: 0.8392\n",
            "Epoch 126/160\n",
            "118/118 [==============================] - 1s 7ms/step - loss: 0.7225 - accuracy: 0.8403\n",
            "Epoch 127/160\n",
            "118/118 [==============================] - 1s 7ms/step - loss: 0.7171 - accuracy: 0.8408\n",
            "Epoch 128/160\n",
            "118/118 [==============================] - 1s 7ms/step - loss: 0.7118 - accuracy: 0.8421\n",
            "Epoch 129/160\n",
            "118/118 [==============================] - 1s 9ms/step - loss: 0.7066 - accuracy: 0.8427\n",
            "Epoch 130/160\n",
            "118/118 [==============================] - 1s 9ms/step - loss: 0.7015 - accuracy: 0.8437\n",
            "Epoch 131/160\n",
            "118/118 [==============================] - 1s 8ms/step - loss: 0.6964 - accuracy: 0.8444\n",
            "Epoch 132/160\n",
            "118/118 [==============================] - 1s 11ms/step - loss: 0.6915 - accuracy: 0.8454\n",
            "Epoch 133/160\n",
            "118/118 [==============================] - 1s 10ms/step - loss: 0.6867 - accuracy: 0.8464\n",
            "Epoch 134/160\n",
            "118/118 [==============================] - 1s 11ms/step - loss: 0.6819 - accuracy: 0.8471\n",
            "Epoch 135/160\n",
            "118/118 [==============================] - 1s 10ms/step - loss: 0.6773 - accuracy: 0.8479\n",
            "Epoch 136/160\n",
            "118/118 [==============================] - 1s 9ms/step - loss: 0.6727 - accuracy: 0.8490\n",
            "Epoch 137/160\n",
            "118/118 [==============================] - 1s 7ms/step - loss: 0.6682 - accuracy: 0.8498\n",
            "Epoch 138/160\n",
            "118/118 [==============================] - 1s 7ms/step - loss: 0.6637 - accuracy: 0.8505\n",
            "Epoch 139/160\n",
            "118/118 [==============================] - 1s 7ms/step - loss: 0.6594 - accuracy: 0.8513\n",
            "Epoch 140/160\n",
            "118/118 [==============================] - 1s 6ms/step - loss: 0.6551 - accuracy: 0.8519\n",
            "Epoch 141/160\n",
            "118/118 [==============================] - 1s 8ms/step - loss: 0.6509 - accuracy: 0.8526\n",
            "Epoch 142/160\n",
            "118/118 [==============================] - 1s 5ms/step - loss: 0.6468 - accuracy: 0.8534\n",
            "Epoch 143/160\n",
            "118/118 [==============================] - 1s 4ms/step - loss: 0.6427 - accuracy: 0.8543\n",
            "Epoch 144/160\n",
            "118/118 [==============================] - 1s 5ms/step - loss: 0.6388 - accuracy: 0.8550\n",
            "Epoch 145/160\n",
            "118/118 [==============================] - 1s 4ms/step - loss: 0.6348 - accuracy: 0.8555\n",
            "Epoch 146/160\n",
            "118/118 [==============================] - 1s 5ms/step - loss: 0.6310 - accuracy: 0.8562\n",
            "Epoch 147/160\n",
            "118/118 [==============================] - 1s 4ms/step - loss: 0.6272 - accuracy: 0.8570\n",
            "Epoch 148/160\n",
            "118/118 [==============================] - 1s 4ms/step - loss: 0.6234 - accuracy: 0.8576\n",
            "Epoch 149/160\n",
            "118/118 [==============================] - 1s 5ms/step - loss: 0.6197 - accuracy: 0.8579\n",
            "Epoch 150/160\n",
            "118/118 [==============================] - 1s 4ms/step - loss: 0.6161 - accuracy: 0.8590\n",
            "Epoch 151/160\n",
            "118/118 [==============================] - 1s 5ms/step - loss: 0.6126 - accuracy: 0.8595\n",
            "Epoch 152/160\n",
            "118/118 [==============================] - 1s 7ms/step - loss: 0.6090 - accuracy: 0.8600\n",
            "Epoch 153/160\n",
            "118/118 [==============================] - 1s 7ms/step - loss: 0.6056 - accuracy: 0.8607\n",
            "Epoch 154/160\n",
            "118/118 [==============================] - 1s 7ms/step - loss: 0.6022 - accuracy: 0.8615\n",
            "Epoch 155/160\n",
            "118/118 [==============================] - 1s 7ms/step - loss: 0.5988 - accuracy: 0.8622\n",
            "Epoch 156/160\n",
            "118/118 [==============================] - 1s 7ms/step - loss: 0.5955 - accuracy: 0.8627\n",
            "Epoch 157/160\n",
            "118/118 [==============================] - 1s 6ms/step - loss: 0.5923 - accuracy: 0.8630\n",
            "Epoch 158/160\n",
            "118/118 [==============================] - 1s 5ms/step - loss: 0.5891 - accuracy: 0.8635\n",
            "Epoch 159/160\n",
            "118/118 [==============================] - 1s 4ms/step - loss: 0.5859 - accuracy: 0.8642\n",
            "Epoch 160/160\n",
            "118/118 [==============================] - 1s 5ms/step - loss: 0.5828 - accuracy: 0.8645\n"
          ]
        },
        {
          "output_type": "execute_result",
          "data": {
            "text/plain": [
              "<keras.src.callbacks.History at 0x79dce6e72230>"
            ]
          },
          "metadata": {},
          "execution_count": 25
        }
      ]
    },
    {
      "cell_type": "code",
      "source": [
        "test_loss,test_acc=network.evaluate(test_images,test_labels)\n",
        "print('Test Accuracy: {:.5f}'.format(test_acc))\n",
        "test_acc"
      ],
      "metadata": {
        "colab": {
          "base_uri": "https://localhost:8080/"
        },
        "id": "PtmKmYbgldqU",
        "outputId": "1b94658c-9c1f-4e71-e737-03159fb1217e"
      },
      "execution_count": 26,
      "outputs": [
        {
          "output_type": "stream",
          "name": "stdout",
          "text": [
            "313/313 [==============================] - 2s 3ms/step - loss: 0.5711 - accuracy: 0.8671\n",
            "Test Accuracy: 0.86710\n"
          ]
        },
        {
          "output_type": "execute_result",
          "data": {
            "text/plain": [
              "0.8671000003814697"
            ]
          },
          "metadata": {},
          "execution_count": 26
        }
      ]
    },
    {
      "cell_type": "code",
      "source": [
        "from keras.utils import plot_model\n",
        "plot_model(network, to_file='model.png')\n",
        "import matplotlib.pyplot as plt\n",
        "history =network.fit(train_images, train_labels, validation_split=0.33,epochs=5, batch_size=512)\n",
        "history_dict = history.history\n",
        "print(history_dict.keys())\n",
        "plt.plot(history.history['accuracy'])\n",
        "plt.plot(history.history['val_accuracy'])\n",
        "plt.title('Model accuracy')\n",
        "plt.ylabel('Accuracy')\n",
        "plt.xlabel('Epoch')\n",
        "plt.legend(['Train', 'Test'], loc='upper left')\n",
        "plt.show()\n",
        "\n",
        "\n",
        "# Plot training & validation loss values\n",
        "plt.plot(history.history['loss'])\n",
        "plt.plot(history.history['val_loss'])\n",
        "plt.title('Model loss')\n",
        "plt.ylabel('Loss')\n",
        "plt.xlabel('Epoch')\n",
        "plt.legend(['Train', 'Test'], loc='upper left')\n",
        "plt.show()\n"
      ],
      "metadata": {
        "colab": {
          "base_uri": "https://localhost:8080/",
          "height": 1000
        },
        "id": "71HAQbUWl5ks",
        "outputId": "8dfe8c77-4bf5-405f-a963-33d35bf7d6f0"
      },
      "execution_count": 27,
      "outputs": [
        {
          "output_type": "stream",
          "name": "stdout",
          "text": [
            "Epoch 1/5\n",
            "79/79 [==============================] - 2s 19ms/step - loss: 0.5833 - accuracy: 0.8651 - val_loss: 0.5728 - val_accuracy: 0.8662\n",
            "Epoch 2/5\n",
            "79/79 [==============================] - 2s 20ms/step - loss: 0.5813 - accuracy: 0.8653 - val_loss: 0.5709 - val_accuracy: 0.8665\n",
            "Epoch 3/5\n",
            "79/79 [==============================] - 2s 20ms/step - loss: 0.5792 - accuracy: 0.8658 - val_loss: 0.5690 - val_accuracy: 0.8667\n",
            "Epoch 4/5\n",
            "79/79 [==============================] - 2s 29ms/step - loss: 0.5772 - accuracy: 0.8664 - val_loss: 0.5670 - val_accuracy: 0.8671\n",
            "Epoch 5/5\n",
            "79/79 [==============================] - 1s 17ms/step - loss: 0.5751 - accuracy: 0.8668 - val_loss: 0.5651 - val_accuracy: 0.8671\n",
            "dict_keys(['loss', 'accuracy', 'val_loss', 'val_accuracy'])\n"
          ]
        },
        {
          "output_type": "display_data",
          "data": {
            "text/plain": [
              "<Figure size 640x480 with 1 Axes>"
            ],
            "image/png": "[encoded data removed]"
          },
          "metadata": {}
        },
        {
          "output_type": "display_data",
          "data": {
            "text/plain": [
              "<Figure size 640x480 with 1 Axes>"
            ],
            "image/png": "[encoded data removed]"
          },
          "metadata": {}
        }
      ]
    }
  ]
}